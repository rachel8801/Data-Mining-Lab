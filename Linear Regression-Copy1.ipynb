{
 "cells": [
  {
   "cell_type": "markdown",
   "metadata": {},
   "source": [
    "# Lab 6: Univariate Linear Regression"
   ]
  },
  {
   "cell_type": "markdown",
   "metadata": {},
   "source": [
    "## Initialize"
   ]
  },
  {
   "cell_type": "code",
   "execution_count": 1,
   "metadata": {},
   "outputs": [],
   "source": [
    "import pandas as pd\n",
    "import numpy as np\n",
    "import seaborn as sns\n",
    "import matplotlib.pyplot as plt\n",
    "np.random.seed(42)\n",
    "plt.style.use('fivethirtyeight')\n",
    "sns.set()\n",
    "sns.set_context(\"talk\")\n",
    "%matplotlib inline"
   ]
  },
  {
   "cell_type": "markdown",
   "metadata": {},
   "source": [
    "# Task 1 - Initialization\n",
    "In the first task of the lab, we will model linear regression based on a data set that contains grades from CS 205 course in fall 2018. The dataset (with no ID's) contain midterm and final exam grades of Rutgers students (including other assignment grades). "
   ]
  },
  {
   "cell_type": "markdown",
   "metadata": {},
   "source": [
    "### Activity 1.1  Read Data\n",
    "Read the file into a dataframe and keep only the midtermRaw and FinaRaw columns. We will be doing univariate regression on x=midterm, y=finalExam\n",
    "The goal is to find a model that will allow us to predict the final exam score given the midterm score."
   ]
  },
  {
   "cell_type": "code",
   "execution_count": 2,
   "metadata": {},
   "outputs": [
    {
     "data": {
      "text/html": [
       "<div>\n",
       "<style scoped>\n",
       "    .dataframe tbody tr th:only-of-type {\n",
       "        vertical-align: middle;\n",
       "    }\n",
       "\n",
       "    .dataframe tbody tr th {\n",
       "        vertical-align: top;\n",
       "    }\n",
       "\n",
       "    .dataframe thead th {\n",
       "        text-align: right;\n",
       "    }\n",
       "</style>\n",
       "<table border=\"1\" class=\"dataframe\">\n",
       "  <thead>\n",
       "    <tr style=\"text-align: right;\">\n",
       "      <th></th>\n",
       "      <th>midtermRaw</th>\n",
       "      <th>finalRaw</th>\n",
       "    </tr>\n",
       "  </thead>\n",
       "  <tbody>\n",
       "    <tr>\n",
       "      <th>3</th>\n",
       "      <td>45.5</td>\n",
       "      <td>62.0</td>\n",
       "    </tr>\n",
       "    <tr>\n",
       "      <th>4</th>\n",
       "      <td>58.0</td>\n",
       "      <td>60.5</td>\n",
       "    </tr>\n",
       "    <tr>\n",
       "      <th>5</th>\n",
       "      <td>68.0</td>\n",
       "      <td>32.0</td>\n",
       "    </tr>\n",
       "    <tr>\n",
       "      <th>6</th>\n",
       "      <td>64.5</td>\n",
       "      <td>50.5</td>\n",
       "    </tr>\n",
       "    <tr>\n",
       "      <th>7</th>\n",
       "      <td>74.0</td>\n",
       "      <td>51.0</td>\n",
       "    </tr>\n",
       "  </tbody>\n",
       "</table>\n",
       "</div>"
      ],
      "text/plain": [
       "   midtermRaw  finalRaw\n",
       "3        45.5      62.0\n",
       "4        58.0      60.5\n",
       "5        68.0      32.0\n",
       "6        64.5      50.5\n",
       "7        74.0      51.0"
      ]
     },
     "execution_count": 2,
     "metadata": {},
     "output_type": "execute_result"
    }
   ],
   "source": [
    "import pandas as pd\n",
    "df = pd.read_csv(\"data/CS205_grades_12_19_18_Final.csv\")\n",
    "df_cleaned = df[['midtermRaw','finalRaw']]\n",
    "# drop all undefined rows \n",
    "df_cleaned = df_cleaned.dropna() \n",
    "df_cleaned.head()"
   ]
  },
  {
   "cell_type": "markdown",
   "metadata": {},
   "source": [
    "### Activity 1.2 Normalize Data\n",
    "In this task, you need to normalize data using MinMaxScaler from sklearn.preprocessing. Normalize midterm and final scores to be between 0 and 1. X_scaled_values and Y_scaled_values are the normalized midterm and final exam scores."
   ]
  },
  {
   "cell_type": "code",
   "execution_count": 3,
   "metadata": {},
   "outputs": [],
   "source": [
    "from sklearn.preprocessing import MinMaxScaler\n",
    "scaler=MinMaxScaler()\n",
    "df2=scaler.fit_transform(df_cleaned)\n",
    "X_scaled_values=df2[:,0]\n",
    "Y_scaled_values=df2[:,1]\n",
    "\n",
    "# call the scaled vectors x and y\n",
    "x = X_scaled_values\n",
    "y = Y_scaled_values"
   ]
  },
  {
   "cell_type": "markdown",
   "metadata": {},
   "source": [
    "### Activity 1.3 Plot the data to see if a linear regression line is a good fit"
   ]
  },
  {
   "cell_type": "code",
   "execution_count": 4,
   "metadata": {},
   "outputs": [
    {
     "data": {
      "text/plain": [
       "<matplotlib.collections.PathCollection at 0x1193a5940>"
      ]
     },
     "execution_count": 4,
     "metadata": {},
     "output_type": "execute_result"
    },
    {
     "data": {
      "image/png": "[encoded data removed]",
      "text/plain": [
       "<Figure size 432x288 with 1 Axes>"
      ]
     },
     "metadata": {
      "needs_background": "light"
     },
     "output_type": "display_data"
    }
   ],
   "source": [
    "import numpy as np\n",
    "import matplotlib.pyplot as plt\n",
    "\n",
    "plt.scatter(x,y)"
   ]
  },
  {
   "cell_type": "markdown",
   "metadata": {},
   "source": [
    "## Question 1.4\n",
    "### BEGIN ANSWER\n",
    "question: Based on what you see in the plot, do you think it is fine to use linear regression? Why?\n",
    "- Yes, as we can see there is a linear relationship between x and y variables, on each x value we can find its y value. If we look at the most dense of the dots, it looks like a positive slop line go through it.\n",
    "\n",
    "### END ANSWER"
   ]
  },
  {
   "cell_type": "markdown",
   "metadata": {},
   "source": [
    "# Task 2 Manual Exploration of Linear Regression Line\n",
    "In this task we will manually explore the linear regression line. This will give us a good intution about the process.\n",
    "The goal now is to fit a line \n",
    "$$\n",
    "h(\\theta) = \\theta_0 + \\theta_1*x \n",
    "$$\n",
    "to all data points (x,y), such that the L2 error (or any other error such as L1 or Huber)\n",
    "$$\n",
    "E(\\theta) = \\sum(h(\\theta)-y)^2 $$ is minimized. In this task we will manually change the values of theta0 and theta1 such that we obtain the smallest possible error. \n"
   ]
  },
  {
   "cell_type": "code",
   "execution_count": 5,
   "metadata": {},
   "outputs": [],
   "source": [
    "# define the function h(theta)\n",
    "def h(theta0, theta1, x):\n",
    "    \"\"\"\n",
    "    Return the model theta0 + theta1*x\n",
    "    \n",
    "    \"\"\"\n",
    "    return theta0 + theta1 * x"
   ]
  },
  {
   "cell_type": "markdown",
   "metadata": {},
   "source": [
    "### Activity 2.1 - Define the square loss (L2) function\n",
    "Define the function, sqerror that computes the error based on the arguments provided. The function h(theta) is as defined above. Assume that x and y are the observed vectors. We use the average square loss or L2 loss in this case. "
   ]
  },
  {
   "cell_type": "code",
   "execution_count": 6,
   "metadata": {},
   "outputs": [
    {
     "data": {
      "text/plain": [
       "0.02348942348323907"
      ]
     },
     "execution_count": 6,
     "metadata": {},
     "output_type": "execute_result"
    }
   ],
   "source": [
    "import numpy as np\n",
    "def sqerror(x, y, theta0, theta1):\n",
    "    \"\"\"\n",
    "    Input: parameters theta0 and theta1 of the model\n",
    "    Input: x, y vectors\n",
    "    Returns: L2 square error\n",
    "    Assumptions: none\n",
    "    \"\"\"\n",
    "    sum0=0\n",
    "    n = len(x)\n",
    "    for i in range(n):\n",
    "        sum0 += (theta1 * x[i] +theta0 - y[i])**2\n",
    "    return sum0/n\n",
    "\n",
    "## testing\n",
    "sqerror(x, y, 0.29,0.52)\n"
   ]
  },
  {
   "cell_type": "markdown",
   "metadata": {},
   "source": [
    "### Activity 2.2 - Define the L1 Absolute error function\n",
    "Define the function, abserror that computes the avarega absolute error based on the arguments provided. The function h(theta) is as defined above. Assume that x and y are the observed vectors. We use the average abssolute error in this case."
   ]
  },
  {
   "cell_type": "code",
   "execution_count": 7,
   "metadata": {},
   "outputs": [
    {
     "data": {
      "text/plain": [
       "0.1258878083450344"
      ]
     },
     "execution_count": 7,
     "metadata": {},
     "output_type": "execute_result"
    }
   ],
   "source": [
    "import numpy as np\n",
    "import math\n",
    "def abserror(x, y, theta0, theta1):\n",
    "    \"\"\"\n",
    "    Input: parameters theta0 and theta1 of the model \n",
    "    Input: x, y vectors\n",
    "    Returns: L1 error\n",
    "    Assumptions: none\n",
    "    \"\"\"\n",
    "    return np.mean(np.absolute(h(theta0, theta1, x)-y))\n",
    "## testing\n",
    "abserror(x, y, 0.29,0.52)"
   ]
  },
  {
   "attachments": {
    "image.png": {
     "image/png": "[encoded data removed]"
    }
   },
   "cell_type": "markdown",
   "metadata": {},
   "source": [
    "### Activity 2.3 - Define the Pseudo Huber loss function\n",
    "Define the function, huberror that computes the pseudo huber error based on the two arguments provided. The function h(theta) is as defined above. Assume that x and y are the observed vectors. The equation for this function is given by \n",
    "![image.png](attachment:image.png)\n",
    "The following function finds the average huber error. In this equation, a  = |h(theta) - y| (see notes for details)"
   ]
  },
  {
   "cell_type": "code",
   "execution_count": 8,
   "metadata": {},
   "outputs": [
    {
     "data": {
      "text/plain": [
       "0.006994227909507368"
      ]
     },
     "execution_count": 8,
     "metadata": {},
     "output_type": "execute_result"
    }
   ],
   "source": [
    "import numpy as np\n",
    "import math\n",
    "\n",
    "def huberror(x, y, theta0, theta1, delta):\n",
    "    \"\"\"\n",
    "    Input: parameters theta0, theta1 and delta of the model \n",
    "    Input: x, y vectors\n",
    "    Returns: psuedo huber error\n",
    "    Assumptions: none\n",
    "    \"\"\"\n",
    "\n",
    "    return np.mean(delta**2 *(np.sqrt(1 + ((np.abs(h(theta0, theta1, x)-y))/delta)**2) -1))\n",
    "\n",
    "## testing\n",
    "huberror(x, y, 0.29,0.52,0.1)"
   ]
  },
  {
   "cell_type": "markdown",
   "metadata": {},
   "source": [
    "### Activity 2.4 Interactive Exploration.\n",
    "Let us initialize the interat widget (as in Lab5) to create sliders that allows us to change the values of theta0 and theta1 and see how things change. Complete the function f below. The function is expected to get two values theta0 and theta1 and plot both the observed points (x,y) and the regression line on the same plot. It also needs to compute the error and display and error."
   ]
  },
  {
   "cell_type": "code",
   "execution_count": 9,
   "metadata": {},
   "outputs": [],
   "source": [
    "from ipywidgets import interact\n",
    "\n",
    "!jupyter nbextension enable --py widgetsnbextension"
   ]
  },
  {
   "cell_type": "code",
   "execution_count": 10,
   "metadata": {},
   "outputs": [
    {
     "data": {
      "application/vnd.jupyter.widget-view+json": {
       "model_id": "93dfc370ff0845fa92fbdf392ef228b8",
       "version_major": 2,
       "version_minor": 0
      },
      "text/plain": [
       "interactive(children=(FloatSlider(value=0.0, description='theta0', max=1.0), FloatSlider(value=0.0, descriptio…"
      ]
     },
     "metadata": {},
     "output_type": "display_data"
    }
   ],
   "source": [
    "# interactive panel\n",
    "import pylab\n",
    "import numpy\n",
    "\n",
    "def f(theta0, theta1):\n",
    "    \"\"\"\n",
    "    Plot the line and points in an interactive panel\n",
    "    \"\"\"\n",
    "    # plot the line for theta0 and theta1\n",
    "    y1 = h(theta0, theta1, x) \n",
    "    # compose plot\n",
    "    pylab.plot(x,y1) \n",
    "    \n",
    "    # compute the L2 error for theta0 and theta1 for 5 decimal places\n",
    "    sqerr = round(sqerror(x, y, theta0, theta1),6)\n",
    "    # compute the absolute or L1 error for theta0 and theta1\n",
    "    abserr = round(abserror(x, y, theta0, theta1),4)\n",
    "    # compute the phub error for theta0 and theta1\n",
    "    huberr = round(huberror(x, y, theta0, theta1, 0.01),4)\n",
    "    pylab.title('L1=' + str(abserr) + '  L2=' + str(sqerr) + '  hub=' + str(huberr))\n",
    "    \n",
    "    # plot the points\n",
    "    pylab.scatter(x, y, alpha=0.5)\n",
    "    pylab.show() # show the plot  \n",
    "\n",
    "interact(f, theta1=(0,1,0.1), theta0=(0,1,0.1));\n"
   ]
  },
  {
   "cell_type": "markdown",
   "metadata": {},
   "source": [
    "### Activity 2.5 Record the best values for each error function\n",
    "Write the \"best\" values you found for theta0 (y-intercept) and theta1 (slope) and the error. \n",
    "This error is the minimum you have observed based on the manual exploration using the widget \n",
    "above."
   ]
  },
  {
   "cell_type": "code",
   "execution_count": 12,
   "metadata": {},
   "outputs": [],
   "source": [
    "# BEST VALUES FOR AVE SQUARE ERROR\n",
    "theta0 = 0.2\n",
    "theta1 =0.7\n",
    "error = 0.1288\n",
    "# BEST VALUES FOR AVE ABS ERROR\n",
    "theta0 =0.2\n",
    "theta1 =0.7\n",
    "error = 0.025128\n",
    "\n",
    "# BEST VALUES FOR AVE HUBER ERROR\n",
    "theta0 =0.2\n",
    "theta1 =0.7\n",
    "error = 0.0012"
   ]
  },
  {
   "cell_type": "markdown",
   "metadata": {},
   "source": [
    "# Task 3 - Gradient Descent\n",
    "In this task we use the Gradient descent methods to find a \"better\" values for theta0 and theta1 that minimizes the error. Gradient descent is an iterative algorithm. It computes values of theta0 and theta1 in the direction of reaching the minimum point in the error function. The iterative formulas using L2 loss function for theta0 and theta1 are given by:\n",
    "$$\n",
    "\\theta_0 = \\theta_0 - \\alpha*(\\sum(\\theta_1*x_j + \\theta_0)-y_j)\n",
    "$$\n",
    "$$\n",
    "\\theta_1 = \\theta_1 - \\alpha*(\\sum(\\theta_1*x_j + \\theta_0 - y_j)*x_j\n",
    "$$\n",
    "\n",
    "The alpha is called the \"learning rate\". It is important to pick a good value for alpha so that convergence is not too slow (small alpha) or be at the risk of over shooting the minimum point (large alpha). You may have to experiemnt with few alphas to find something that works."
   ]
  },
  {
   "cell_type": "markdown",
   "metadata": {},
   "source": [
    "### Activity 3.1 Compute using Gradient Descent algorithm (L2 loss)\n",
    "\n",
    "Please print out the theta0 and theta1 values for each iteration in your function. You may get different output compare with the sample output depends on your initial theta0 and theta1 values. We will accept any answers which are close to the sample output."
   ]
  },
  {
   "cell_type": "code",
   "execution_count": 11,
   "metadata": {
    "scrolled": true
   },
   "outputs": [
    {
     "name": "stdout",
     "output_type": "stream",
     "text": [
      "0.05437313432835818 0.9967095948827293 0.23980749256935113 1\n",
      "0.044009367164179046 0.9593776206883948 0.20347169181668837 2\n",
      "0.07069614881245201 0.9441697657455459 0.20122272144465997 3\n",
      "0.07445850260114387 0.917853040028166 0.18177344667160272 4\n",
      "0.09072534967175905 0.8999270692939488 0.17392301537443877 5\n",
      "0.09865378179349293 0.8787952165048333 0.16115338989852493 6\n",
      "0.11058707857120836 0.8612063155101113 0.1526715530874735 7\n",
      "0.11929279485989783 0.8430938322678296 0.14311161078149046 8\n",
      "0.12908170670422459 0.8267745889439873 0.13539448072459512 9\n",
      "0.13745408438385084 0.8108047769006026 0.12774739816494188 10\n",
      "0.1459247851577802 0.7959626266385375 0.12107597240750992 11\n",
      "0.15363876380038088 0.7817196378809479 0.11477267452868725 12\n",
      "0.16113673439377352 0.7683216378319104 0.10909976282203313 13\n",
      "0.1681342991892166 0.7555611908467732 0.10383224658782939 14\n",
      "0.17483191027358902 0.7435014484390304 0.0990299024322874 15\n",
      "0.1811423520316239 0.7320490552541277 0.09459663726863012 16\n",
      "0.1871464583906476 0.7212058870404141 0.0905311185572727 17\n",
      "0.19282441643519968 0.7109204240254063 0.08678319251208755 18\n",
      "0.19821432250772275 0.7011752660068699 0.08333535604019049 19\n",
      "0.2033187419811097 0.6919353793312275 0.08015574217882607 20\n",
      "0.20815989172807386 0.6831784908992979 0.07722458599922737 21\n",
      "0.21274716165545826 0.6748770388764096 0.07451870574697375 22\n",
      "0.21709633483906016 0.6670087015151075 0.07202005050050209 23\n",
      "0.2212183126290394 0.6595500767728106 0.06971049734582652 24\n",
      "0.2251258224445794 0.6524803052964804 0.06757455969329773 25\n",
      "0.22882951641809623 0.6457788342997017 0.06559758516973992 26\n",
      "0.23234032442309024 0.6394266422973868 0.06376656672633951 27\n",
      "0.23566811557544864 0.6334054275423742 0.06206947471872419 28\n",
      "0.23882253441591944 0.6276980021134428 0.06049545888441835 29\n",
      "0.24181255203684543 0.6222879793208663 0.05903456775698814 30\n",
      "0.24464677282199976 0.6171598820883492 0.05767776188434691 31\n",
      "0.24733329333978296 0.6122990070040363 0.056416772256195145 32\n",
      "0.2498798233005805 0.6076914362304113 0.05524406097168802 33\n",
      "0.2522936499832269 0.6033239657651831 0.05415273465976586 34\n",
      "0.2545816931190818 0.5991840864103972 0.053136495740723926 35\n",
      "0.2567505046578008 0.5952599368509729 0.05218958135578474 36\n",
      "0.25880629936708066 0.5915402762130091 0.05130671801190507 37\n",
      "0.26075496565926076 0.588014448005086 0.05048307487903085 38\n",
      "0.2626020865754173 0.5846723518642843 0.04971422484864401 39\n",
      "0.26435295335236314 0.5815044132795762 0.0489961073937074 40\n",
      "0.26601258201231054 0.5785015569542504 0.048324996064289256 41\n",
      "0.2675857268883098 0.5756551803406743 0.04769746841924628 42\n",
      "0.269076894742268 0.5729571292712162 0.04711037916842947 43\n",
      "0.27049035738207483 0.5703996744361345 0.04656083562438197 44\n",
      "0.27183016407255745 0.5679754893366432 0.0460461755800288 45\n",
      "0.27310015303351526 0.5656776292397361 0.04556394717824256 46\n",
      "0.27430396249558153 0.5634995113164478 0.04511189069553477 47\n",
      "0.27544504108736695 0.561434895763942 0.044687921987616064 48\n",
      "0.27652665773593754 0.559477867941515 0.044290117475545975 49\n",
      "0.2775519110191663 0.5576228214196964 0.043916700501450606 50\n",
      "0.2785237380497276 0.5558644419231653 0.0435660289356123 51\n",
      "0.27944492288494027 0.5541976921042134 0.0432365839074248 52\n",
      "0.28031810450497896 0.5526177971133203 0.04292695955746629 53\n",
      "0.28114578437144155 0.551120230919495 0.0426358537109034 54\n",
      "0.2819303335943354 0.5497007033447406 0.04236205938638122 55\n",
      "0.2826739997242349 0.5483551477734063 0.04210445706052423 56\n",
      "0.28337891319129666 0.5470797095024513 0.04186200761739361 57\n",
      "0.2840470934082642 0.5458707346985189 0.04163374591830113 58\n",
      "0.28468045455572166 0.5447247599306146 0.04141877493415117 59\n",
      "0.28528081106571207 0.5436385022481494 0.041216260387808026 60\n",
      "0.2858498828196992 0.5426088497760713 0.041025425859236755 61\n",
      "0.286389300075605 0.541632852800057 0.04084554831063313 62\n",
      "0.28690060813813195 0.5407077153162754 0.040675953992937254 63\n",
      "0.28738527178569256 0.5398307870214831 0.04051601469880167 64\n",
      "0.2878446794666634 0.5389995557205274 0.04036514433045375 65\n",
      "0.2882801472769623 0.5382116401294897 0.04022279575389371 66\n",
      "0.28869292273035907 0.5374647830538645 0.04008845791360096 67\n",
      "0.28908418833230987 0.5367568449222213 0.03996165318436766 68\n",
      "0.28945506496756085 0.536085797656833 0.039841934939096456 69\n",
      "0.28980661511122097 0.5354497188637044 0.03972888531339279 70\n",
      "0.2901398458725058 0.5348467863253628 0.03962211314958774 71\n",
      "0.29045571187987074 0.5342752727806286 0.03952125210445086 72\n",
      "0.29075511801579873 0.5337335409764155 0.03942595890632373 73\n",
      "0.291038922009078 0.5332200389773815 0.03933591174872924 74\n",
      "0.2913079368919949 0.5327332957199962 0.03925080880871131 75\n",
      "0.29156293332948185 0.5322719167982866 0.03917036687924099 76\n",
      "0.2918046418268928 0.5318345804691889 0.03909432010600429 77\n",
      "0.2920337548227309 0.5314200338660628 0.03902241881977041 78\n",
      "0.29225092867232316 0.531027089409521 0.038954428456339646 79\n",
      "0.29245678552812565 0.5306546214052904 0.03889012855679377 80\n",
      "0.29265191512204525 0.5303015628193607 0.038829311841425684 81\n",
      "0.292836876454884 0.5299669022211808 0.03877178335131848 82\n",
      "0.2930121993977462 0.5296496808861461 0.03871735965208036 83\n",
      "0.2931783862099955 0.5293489900490754 0.03866586809472748 84\n",
      "0.2933359129781111 0.5290639683008116 0.038617146129148607 85\n",
      "0.2934852309795643 0.5287937991204841 0.03857104066598233 86\n",
      "0.2936267679756233 0.5285377085363673 0.038527407483103224 87\n",
      "0.2937609294367898 0.5282949629086322 0.038486110673237546 88\n",
      "0.293888099704377 0.5280648668276392 0.03844702212953168 89\n",
      "0.2940086430915584 0.5278467611217513 0.03841002106616347 90\n",
      "0.2941229049270397 0.5276400209689615 0.03837499357133535 91\n",
      "0.29423121254434514 0.5274440541069229 0.03834183219021018 92\n",
      "0.29433387621955204 0.5272582991362553 0.03831043553555464 93\n",
      "0.294431190060159 0.5270822239122673 0.03828070792404019 94\n",
      "0.2945234328476356 0.526915324020485 0.03825255903631906 95\n",
      "0.29461086883606624 0.5267571213316227 0.03822590359914758 96\n",
      "0.2946937485091766 0.5266071626318536 0.03820066108796748 97\n",
      "0.2947723092979109 0.5264650183244581 0.03817675544848426 98\n",
      "0.29484677626061645 0.5263302811991293 0.03815411483589725 99\n",
      "0.29491736272778324 0.5262025652654101 0.03813267137054281 100\n",
      "0.2949842709131861 0.5260815046469209 0.03811236090880852 101\n",
      "0.29504769249317986 0.5259667525332089 0.03809312282826499 102\n",
      "0.29510780915580787 0.5258579801862169 0.038074899826042945 103\n",
      "0.2951647931212952 0.5257548759985254 0.038057637729557885 104\n",
      "0.29521880763542024 0.5256571446006703 0.03804128531875122 105\n",
      "0.29527000743717524 0.5255645060149776 0.03802579415908074 106\n",
      "0.2953185392020575 0.5254766948534935 0.038011118444548776 107\n",
      "0.29536454196226075 0.5253934595577089 0.037997214850110025 108\n",
      "0.29540814750496974 0.5253145616779035 0.03798404239284802 109\n",
      "0.2954494807499 0.5252397751900426 0.03797156230135424 110\n",
      "0.29548866010716346 0.5251688858482713 0.03795973789278402 111\n",
      "0.295525797816486 0.5251016905711495 0.03794853445710067 112\n",
      "0.2955610002687481 0.5250379968598715 0.03793791914805452 113\n",
      "0.2955943683107698 0.5249776222468013 0.037927860880473625 114\n",
      "0.2956259975342135 0.5249203937727459 0.03791833023347443 115\n",
      "0.2956559785494315 0.5248661474914669 0.0379092993592248 116\n",
      "0.29568439724504403 0.5248147280000132 0.037900741896920165 117\n",
      "0.2957113350339895 0.5247659879935276 0.03789263289165281 118\n",
      "0.2957368690867542 0.5247197878432528 0.03788494871787926 119\n",
      "0.29576107255244716 0.5246759951965275 0.03787766700720723 120\n",
      "0.2957840147683559 0.5246344845976268 0.037870766580244346 121\n",
      "0.2958057614585813 0.524595137128361 0.03786422738226616 122\n",
      "0.2958263749223215 0.5245578400674025 0.03785803042247739 123\n",
      "0.29584591421234524 0.5245224865673654 0.03785215771665478 124\n",
      "0.2958644353041639 0.5244889753487132 0.0378465922329731 125\n",
      "0.2958819912563882 0.5244572104096157 0.03784131784082899 126\n",
      "0.2958986323627291 0.5244271007509268 0.037836319262488746 127\n",
      "0.2959144062960772 0.5243985601154929 0.037831582027396386 128\n",
      "0.29592935824507455 0.5243715067410464 0.037827092428989836 129\n",
      "0.29594353104356985 0.5243458631259755 0.03782283748388118 130\n",
      "0.2959569652933271 0.5243215558073006 0.037818804893266056 131\n",
      "0.2959696994803403 0.5242985151502195 0.0378149830064365 132\n",
      "0.295981770085087 0.5242766751486208 0.037811360786277226 133\n",
      "0.2959932116870361 0.5242559732359904 0.03780792777663438 134\n",
      "0.29600405706371014 0.5242363501061744 0.037804674071451314 135\n",
      "0.2960143372845853 0.52421774954348 0.0378015902855725 136\n",
      "0.2960240818000981 0.5242001182616309 0.03779866752712293 137\n",
      "0.2960333185260139 0.5241834057511143 0.03779589737137498 138\n",
      "0.2960420739233996 0.5241675641344834 0.03779327183602058 139\n",
      "0.2960503730744276 0.5241525480291991 0.03779078335777112 140\n",
      "0.2960582397542313 0.52413831441762 0.037788424770211625 141\n",
      "0.2960656964990144 0.5241248225237669 0.03778618928284057 142\n",
      "0.2960727646706126 0.5241120336965087 0.037784070461230355 143\n",
      "0.2960794645176901 0.5240999112988365 0.037782062208246855 144\n",
      "0.29608581523374694 0.5240884206029065 0.0377801587462706 145\n",
      "0.2960918350121043 0.5240775286905536 0.03777835460036517 146\n",
      "0.29609754109802383 0.5240672043589875 0.03777664458234048 147\n",
      "0.2961029498381119 0.524057418031405 0.03777502377566412 148\n",
      "0.2961080767271478 0.5240481416722589 0.037773487521172794 149\n",
      "0.29611293645247366 0.5240393487069424 0.0377720314035426 150\n",
      "0.2961175429360698 0.5240310139456594 0.03777065123847596 151\n",
      "0.2961219093744379 0.524023113511262 0.0377693430605668 152\n",
      "0.296126048276406 0.5240156247708468 0.03776810311180863 153\n",
      "0.29612997149896353 0.5240085262709184 0.037766927830709174 154\n",
      "0.2961336902812287 0.5240017976759291 0.03776581384198088 155\n",
      "0.2961372152766457 0.5239954197100227 0.03776475794677518 156\n",
      "0.2961405565835049 0.5239893741018136 0.03776375711343248 157\n",
      "157\n"
     ]
    }
   ],
   "source": [
    "# given the observed data (obsX,obsY), learning rate (alpha), and desired error threshold, \n",
    "# the function returns theta0 and theta1 when it reaches the error threshold.\n",
    "# The convergence is reached when the abs(newError - oldError) is less than the threshold.\n",
    " \n",
    "def gd2(obsX, obsY, alpha, threshold):\n",
    "    \"\"\"\n",
    "    Input : observed vectors X, Y, alpha and threshold\n",
    "    Return theta0, theta1 from Gradient Descent L2 loss algorithm\n",
    "    Return: Iterations and L2 Error\n",
    "    \"\"\"\n",
    "    theta0 = 0\n",
    "    theta1 = 1\n",
    "    oldError = 10\n",
    "    n = len(obsX)\n",
    "    count = 0\n",
    "    while(True):\n",
    "        sum0 = 0\n",
    "        sum1 = 0\n",
    "\n",
    "        for i in range(n):\n",
    "            sum0 += obsX[i] * theta1 + theta0 - obsY[i]\n",
    "            sum1 += (obsX[i] * theta1 + theta0 -obsY[i]) * obsX[i]               \n",
    "        theta0 = theta0 - alpha * sum0\n",
    "        theta1 = theta1 - alpha * sum1\n",
    "        newError = sqerror(obsX, obsY, theta1,theta0)        \n",
    "        tolerance = abs(newError - oldError)\n",
    "        if(tolerance <= threshold):\n",
    "            break;\n",
    "        oldError = newError\n",
    "        count += 1\n",
    "        print(theta0, theta1, newError, count)\n",
    "    return theta0, theta1, newError, count\n",
    "\n",
    "[theta0,theta1,newError,iterations] = gd2(x,y,0.01,0.000001)\n",
    "print(iterations)\n"
   ]
  },
  {
   "cell_type": "code",
   "execution_count": 12,
   "metadata": {},
   "outputs": [
    {
     "data": {
      "text/plain": [
       "(0.29614372377387144, 0.5239836435320433)"
      ]
     },
     "execution_count": 12,
     "metadata": {},
     "output_type": "execute_result"
    }
   ],
   "source": [
    "# observe theta0 and theta1\n",
    "\n",
    "theta0, theta1"
   ]
  },
  {
   "cell_type": "markdown",
   "metadata": {},
   "source": [
    "### Activity 3.2 Compute Gradient Descent (Huber)\n",
    "First Compute a formula for Pseudo huber gradient descent using derivative methods discussed in class and recitation. Similar to L2 descent, use the new formulas (obtained from pseudo huber derivatives) to compute values of theta1, theta1, error. The pseudo huber loss function is provided in Activity 2.3. Use that to differentiate the huber function wrt to theta0 and theta1. \n",
    "\n",
    "Please print out the theta0 and theta1 values for each iteration in your function. You may get different output compared with the sample output depending on your initial theta0 and theta1 values. We will accept any answers which are close to the sample output."
   ]
  },
  {
   "cell_type": "code",
   "execution_count": 13,
   "metadata": {
    "scrolled": true
   },
   "outputs": [
    {
     "name": "stdout",
     "output_type": "stream",
     "text": [
      "-0.17562686567164243 0.345709594882729 0.003259348936712096 1\n",
      "0.5207103671641793 0.7262591706883951 0.0041851670419280574 2\n",
      "0.11281502976245161 0.49674211943233154 0.001393523283773101 3\n",
      "0.3560465577325465 0.6273046456446744 0.0023696139056498173 4\n",
      "0.2151071017351895 0.5457438100121484 0.0014457237852816493 5\n",
      "0.30061928061135595 0.5895300510083368 0.0018706638197379755 6\n",
      "0.25244663658131905 0.5596119981309464 0.0015534510969993178 7\n",
      "0.2830029971314087 0.5733777961976849 0.0017104260885184804 8\n",
      "0.26701349966344134 0.5615811729954964 0.0015956171765556318 9\n",
      "0.27837068578569857 0.5650528260035304 0.001645769602706534 10\n",
      "0.2734984868693493 0.5597009521744442 0.0016009584533003287 11\n",
      "0.2781031624828447 0.5597253548977722 0.0016130188052445634 12\n",
      "0.2770282009188542 0.5567420621406707 0.0015927176335792167 13\n",
      "13\n"
     ]
    }
   ],
   "source": [
    "# given the observed data (obsX,obsY), learning rate (alpha), and desired error, \n",
    "# the function returns theta0, theta1, error and iterations\n",
    "# that reaches a minimum error threshold\n",
    "\n",
    "def gdh(obsX, obsY, alpha, threshold, delta):\n",
    "    \"\"\"\n",
    "    Input : observed vectors X, Y, alpha and threshold\n",
    "    Return theta0, theta1 from Gradient Descent huber loss algorithm\n",
    "    Return: Iterations and huber Error\n",
    "    \"\"\"\n",
    "    theta0 = 1\n",
    "    theta1 = 1\n",
    "    oldError = 10\n",
    "    n = len(obsX)\n",
    "    count = 0\n",
    "    while(True):\n",
    "        sum0 = 0\n",
    "        sum1 = 0\n",
    "\n",
    "        for i in range(n):\n",
    "            sum0 += obsX[i] * theta1 + theta0 - obsY[i]\n",
    "            sum1 += (obsX[i] * theta1 + theta0 -obsY[i]) * obsX[i]               \n",
    "        theta0 = theta0 - alpha * sum0\n",
    "        theta1 = theta1 - alpha * sum1\n",
    "        newError = huberror(obsX, obsY, theta1, theta0, delta)\n",
    "        \n",
    "        if(abs(newError - oldError) <= threshold):\n",
    "            break;\n",
    "        oldError = newError\n",
    "        count += 1\n",
    "        print(theta0, theta1, oldError, count)\n",
    "    return theta0, theta1, oldError, count\n",
    " \n",
    "# testing    \n",
    "[theta0,theta1,newError,iterations] = gdh(x,y,0.01,0.000001,0.01)\n",
    "print(iterations)"
   ]
  },
  {
   "cell_type": "markdown",
   "metadata": {},
   "source": [
    "### Activity 3.2 Analysis\n",
    "1. Write the values of theta0, theta1, alpha, error that provided the minimum value through gradient descent\n",
    "2. Experiment the new values of theta0, theta1 to see if the interactive widget shows similar things.\n",
    "\n",
    "##### BEGIN ANSWER\n",
    "1. - intital theta0 : 0\n",
    "   - intital theta1: 1\n",
    "   - theta0 : 0.2933359129781111\n",
    "   - theta1: 0.5290639683008116\n",
    "   - alpha: 0.01\n",
    "   - error: 0.0014825998280743565\n",
    "   - iterations: 85\n",
    "2. - New experiment:\n",
    "   - intital theta0 : 1\n",
    "   - intital theta1: 1\n",
    "   - theta0 : 0.2770282009188542\n",
    "   - theta1: 0.5567420621406707\n",
    "   - alpha: 0.01\n",
    "   - error: 0.0015927176335792167 \n",
    "   - iterations:13. \n",
    "  - With these new values of theta0, theta1, the final error is similar but with lesser of iterations.\n",
    "\n",
    "##### END ANSWER"
   ]
  },
  {
   "cell_type": "markdown",
   "metadata": {},
   "source": [
    "### Activity 3.3 Compare with Library Estimators"
   ]
  },
  {
   "cell_type": "code",
   "execution_count": 14,
   "metadata": {},
   "outputs": [
    {
     "name": "stdout",
     "output_type": "stream",
     "text": [
      "[0.29620134]\n",
      "[[0.5238794]]\n"
     ]
    }
   ],
   "source": [
    "from sklearn.linear_model import LinearRegression\n",
    "lm = LinearRegression()\n",
    "x = x.reshape(-1,1)\n",
    "y = y.reshape(-1,1)\n",
    "result = lm.fit(x,y)\n",
    "print(result.intercept_)\n",
    "print(result.coef_)"
   ]
  },
  {
   "cell_type": "code",
   "execution_count": 15,
   "metadata": {},
   "outputs": [
    {
     "data": {
      "text/plain": [
       "array([[0.02342046]])"
      ]
     },
     "execution_count": 15,
     "metadata": {},
     "output_type": "execute_result"
    }
   ],
   "source": [
    "theta0 = result.intercept_\n",
    "theta1 = result.coef_\n",
    "sqerror(x, y, theta0,theta1)"
   ]
  },
  {
   "cell_type": "markdown",
   "metadata": {},
   "source": [
    "## Task 4- Predict the Final Exam Score\n",
    "The regression line was obtained using grades from CS 205 course. We can consider them to be training data. Now we trained a model (with theta0 and theta1) so we can predict the grade for your own course based on your midterm grade.\n",
    "We will do few things before we can accomplish this task."
   ]
  },
  {
   "cell_type": "markdown",
   "metadata": {},
   "source": [
    "### Activity 4.1 Read the midterm grades\n",
    "The grade file for CS439 midterm is given in data/CS439_grades.csv. Read this data file to a new "
   ]
  },
  {
   "cell_type": "code",
   "execution_count": 16,
   "metadata": {},
   "outputs": [
    {
     "name": "stdout",
     "output_type": "stream",
     "text": [
      "<class 'pandas.core.frame.DataFrame'>\n",
      "RangeIndex: 97 entries, 0 to 96\n",
      "Data columns (total 1 columns):\n",
      "midterm    97 non-null float64\n",
      "dtypes: float64(1)\n",
      "memory usage: 856.0 bytes\n",
      "<class 'pandas.core.frame.DataFrame'>\n",
      "Int64Index: 96 entries, 0 to 96\n",
      "Data columns (total 1 columns):\n",
      "midterm    96 non-null float64\n",
      "dtypes: float64(1)\n",
      "memory usage: 1.5 KB\n"
     ]
    }
   ],
   "source": [
    "import pandas as pd\n",
    "df_439 = pd.read_csv(\"data/CS439_grades_03_15_19.csv\")\n",
    "df_439.info()\n",
    "mid = df_439[df_439['midterm']<80]\n",
    "mid.info()"
   ]
  },
  {
   "cell_type": "markdown",
   "metadata": {},
   "source": [
    "### Activity 4.2 Predict your Grade\n",
    "Scale the values in the midterm grades of CS 439 and compute the estimated final exam grade. Note that this is probably not a very good estimator since we are trying to predict final exam just by using a midterm score. However, using more features such as labs and quiz scores can help improve the accuracy. We will do that in a future lab. The output is shown as values scaled back to percentages (100% max)"
   ]
  },
  {
   "cell_type": "code",
   "execution_count": 17,
   "metadata": {
    "scrolled": true
   },
   "outputs": [
    {
     "name": "stdout",
     "output_type": "stream",
     "text": [
      "midterm, final_pred\n",
      "[[58.5  61.9 ]\n",
      " [51.   51.8 ]\n",
      " [55.   57.2 ]\n",
      " [39.5  36.3 ]\n",
      " [71.5  79.3 ]\n",
      " [56.5  59.2 ]\n",
      " [50.   50.4 ]\n",
      " [52.5  53.8 ]\n",
      " [51.5  52.5 ]\n",
      " [43.   41.  ]\n",
      " [53.5  55.1 ]\n",
      " [51.5  52.5 ]\n",
      " [64.   69.2 ]\n",
      " [60.   63.9 ]\n",
      " [55.   57.2 ]\n",
      " [51.5  52.5 ]\n",
      " [58.5  61.9 ]\n",
      " [51.   51.8 ]\n",
      " [58.   61.2 ]\n",
      " [73.5  82.  ]\n",
      " [62.   66.6 ]\n",
      " [58.5  61.9 ]\n",
      " [34.5  29.6 ]\n",
      " [55.5  57.8 ]\n",
      " [48.   47.8 ]\n",
      " [67.   73.3 ]\n",
      " [61.   65.2 ]\n",
      " [70.   77.3 ]\n",
      " [46.   45.1 ]\n",
      " [63.   67.9 ]\n",
      " [61.   65.2 ]\n",
      " [35.5  31.  ]\n",
      " [58.5  61.9 ]\n",
      " [61.5  65.9 ]\n",
      " [53.5  55.1 ]\n",
      " [73.   81.3 ]\n",
      " [48.   47.8 ]\n",
      " [58.   61.2 ]\n",
      " [52.   53.1 ]\n",
      " [54.   55.8 ]\n",
      " [61.5  65.9 ]\n",
      " [58.   61.2 ]\n",
      " [67.   73.3 ]\n",
      " [45.   43.7 ]\n",
      " [58.5  61.9 ]\n",
      " [42.5  40.4 ]\n",
      " [42.   39.7 ]\n",
      " [37.   33.  ]\n",
      " [66.   71.9 ]\n",
      " [52.   53.1 ]\n",
      " [45.   43.7 ]\n",
      " [40.   37.  ]\n",
      " [61.   65.2 ]\n",
      " [54.5  56.5 ]\n",
      " [44.   42.4 ]\n",
      " [65.   70.6 ]\n",
      " [43.5  41.7 ]\n",
      " [58.   61.2 ]\n",
      " [62.5  67.2 ]\n",
      " [68.   74.6 ]\n",
      " [54.   55.8 ]\n",
      " [49.   49.1 ]\n",
      " [63.   67.9 ]\n",
      " [59.   62.5 ]\n",
      " [57.5  60.5 ]\n",
      " [62.   66.6 ]\n",
      " [36.5  32.3 ]\n",
      " [48.   47.8 ]\n",
      " [42.   39.7 ]\n",
      " [54.   55.8 ]\n",
      " [61.   65.2 ]\n",
      " [37.5  33.6 ]\n",
      " [61.   65.2 ]\n",
      " [61.   65.2 ]\n",
      " [55.5  57.8 ]\n",
      " [50.   50.4 ]\n",
      " [51.5  52.5 ]\n",
      " [73.   81.3 ]\n",
      " [65.5  71.3 ]\n",
      " [69.   76.  ]\n",
      " [56.   58.5 ]\n",
      " [60.   63.9 ]\n",
      " [57.   59.8 ]\n",
      " [52.5  53.8 ]\n",
      " [54.75 56.8 ]\n",
      " [62.   66.6 ]\n",
      " [54.5  56.5 ]\n",
      " [51.5  52.5 ]\n",
      " [37.   33.  ]\n",
      " [46.5  45.7 ]\n",
      " [72.   80.  ]\n",
      " [61.5  65.9 ]\n",
      " [59.5  63.2 ]\n",
      " [49.5  49.8 ]\n",
      " [51.   51.8 ]\n",
      " [67.   73.3 ]]\n"
     ]
    }
   ],
   "source": [
    "from sklearn import preprocessing\n",
    "\n",
    "scaler=MinMaxScaler()\n",
    "m = scaler.fit_transform(mid)\n",
    "f_pred = (result.predict(m))*100\n",
    "final_pred = np.around(f_pred, 1)\n",
    "print('midterm, final_pred')\n",
    "print(np.c_[mid,final_pred] )\n",
    "    \n"
   ]
  },
  {
   "cell_type": "markdown",
   "metadata": {},
   "source": [
    "Lab Developed by A.D. Gunawardena @ 2019 for CS 439"
   ]
  }
 ],
 "metadata": {
  "kernelspec": {
   "display_name": "Python 3",
   "language": "python",
   "name": "python3"
  },
  "language_info": {
   "codemirror_mode": {
    "name": "ipython",
    "version": 3
   },
   "file_extension": ".py",
   "mimetype": "text/x-python",
   "name": "python",
   "nbconvert_exporter": "python",
   "pygments_lexer": "ipython3",
   "version": "3.7.1"
  }
 },
 "nbformat": 4,
 "nbformat_minor": 2
}
